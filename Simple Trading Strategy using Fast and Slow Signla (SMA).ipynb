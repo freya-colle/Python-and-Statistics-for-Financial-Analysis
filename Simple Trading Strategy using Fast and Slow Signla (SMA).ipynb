{
 "cells": [
  {
   "cell_type": "code",
   "execution_count": 2,
   "id": "5a047086",
   "metadata": {},
   "outputs": [],
   "source": [
    "#Pandas - data structures to store table and time series data\n",
    "import pandas as pd"
   ]
  },
  {
   "cell_type": "code",
   "execution_count": 3,
   "id": "227ff2f0",
   "metadata": {},
   "outputs": [],
   "source": [
    "#Numpy - numerical computing of array and matrix, generate random numbers\n",
    "import numpy as np"
   ]
  },
  {
   "cell_type": "code",
   "execution_count": 48,
   "id": "23bcca79",
   "metadata": {},
   "outputs": [],
   "source": [
    "#Matplotlib - plotting package\n",
    "import matplotlib.pyplot as plt\n",
    "%matplotlib inline"
   ]
  },
  {
   "cell_type": "code",
   "execution_count": 5,
   "id": "148dc00d",
   "metadata": {},
   "outputs": [],
   "source": [
    "#Statsmodel for time series analysis"
   ]
  },
  {
   "cell_type": "code",
   "execution_count": 6,
   "id": "7cc4e888",
   "metadata": {},
   "outputs": [],
   "source": [
    "#Import .csv file using pandas\n",
    "stb = pd.read_csv(r'A:\\0. INVESTMENT\\Data\\excel_stb.csv')"
   ]
  },
  {
   "cell_type": "code",
   "execution_count": 7,
   "id": "4054270d",
   "metadata": {},
   "outputs": [
    {
     "data": {
      "text/html": [
       "<div>\n",
       "<style scoped>\n",
       "    .dataframe tbody tr th:only-of-type {\n",
       "        vertical-align: middle;\n",
       "    }\n",
       "\n",
       "    .dataframe tbody tr th {\n",
       "        vertical-align: top;\n",
       "    }\n",
       "\n",
       "    .dataframe thead th {\n",
       "        text-align: right;\n",
       "    }\n",
       "</style>\n",
       "<table border=\"1\" class=\"dataframe\">\n",
       "  <thead>\n",
       "    <tr style=\"text-align: right;\">\n",
       "      <th></th>\n",
       "      <th>YYYYMMDD</th>\n",
       "      <th>OpenFixed</th>\n",
       "      <th>HighFixed</th>\n",
       "      <th>LowFixed</th>\n",
       "      <th>CloseFixed</th>\n",
       "      <th>Volume</th>\n",
       "    </tr>\n",
       "  </thead>\n",
       "  <tbody>\n",
       "    <tr>\n",
       "      <th>0</th>\n",
       "      <td>20060712</td>\n",
       "      <td>12.4204</td>\n",
       "      <td>12.4204</td>\n",
       "      <td>12.4204</td>\n",
       "      <td>12.4204</td>\n",
       "      <td>763190</td>\n",
       "    </tr>\n",
       "    <tr>\n",
       "      <th>1</th>\n",
       "      <td>20060713</td>\n",
       "      <td>12.7389</td>\n",
       "      <td>12.9777</td>\n",
       "      <td>12.7389</td>\n",
       "      <td>12.9777</td>\n",
       "      <td>1694670</td>\n",
       "    </tr>\n",
       "    <tr>\n",
       "      <th>2</th>\n",
       "      <td>20060714</td>\n",
       "      <td>13.2166</td>\n",
       "      <td>13.2166</td>\n",
       "      <td>12.8185</td>\n",
       "      <td>12.8185</td>\n",
       "      <td>935410</td>\n",
       "    </tr>\n",
       "    <tr>\n",
       "      <th>3</th>\n",
       "      <td>20060717</td>\n",
       "      <td>12.5796</td>\n",
       "      <td>12.5796</td>\n",
       "      <td>12.3408</td>\n",
       "      <td>12.3408</td>\n",
       "      <td>1320510</td>\n",
       "    </tr>\n",
       "    <tr>\n",
       "      <th>4</th>\n",
       "      <td>20060718</td>\n",
       "      <td>12.0223</td>\n",
       "      <td>12.0223</td>\n",
       "      <td>12.0223</td>\n",
       "      <td>12.0223</td>\n",
       "      <td>721380</td>\n",
       "    </tr>\n",
       "  </tbody>\n",
       "</table>\n",
       "</div>"
      ],
      "text/plain": [
       "   YYYYMMDD  OpenFixed  HighFixed  LowFixed  CloseFixed   Volume\n",
       "0  20060712    12.4204    12.4204   12.4204     12.4204   763190\n",
       "1  20060713    12.7389    12.9777   12.7389     12.9777  1694670\n",
       "2  20060714    13.2166    13.2166   12.8185     12.8185   935410\n",
       "3  20060717    12.5796    12.5796   12.3408     12.3408  1320510\n",
       "4  20060718    12.0223    12.0223   12.0223     12.0223   721380"
      ]
     },
     "execution_count": 7,
     "metadata": {},
     "output_type": "execute_result"
    }
   ],
   "source": [
    "stb.head()"
   ]
  },
  {
   "cell_type": "code",
   "execution_count": 8,
   "id": "70a8f94e",
   "metadata": {},
   "outputs": [
    {
     "data": {
      "text/plain": [
       "pandas.core.frame.DataFrame"
      ]
     },
     "execution_count": 8,
     "metadata": {},
     "output_type": "execute_result"
    }
   ],
   "source": [
    "type(stb)"
   ]
  },
  {
   "cell_type": "code",
   "execution_count": 9,
   "id": "0f14369c",
   "metadata": {},
   "outputs": [
    {
     "data": {
      "text/plain": [
       "RangeIndex(start=0, stop=3849, step=1)"
      ]
     },
     "execution_count": 9,
     "metadata": {},
     "output_type": "execute_result"
    }
   ],
   "source": [
    "stb.index"
   ]
  },
  {
   "cell_type": "markdown",
   "id": "b2174cbb",
   "metadata": {},
   "source": [
    "There are 2 methods to slide the data:\n",
    "1. Selection by **label**: .loc\n",
    "2. Selection by **position**: .iloc"
   ]
  },
  {
   "cell_type": "code",
   "execution_count": 10,
   "id": "c92515b7",
   "metadata": {},
   "outputs": [
    {
     "data": {
      "text/plain": [
       "YYYYMMDD      2.006071e+07\n",
       "OpenFixed     1.242040e+01\n",
       "HighFixed     1.242040e+01\n",
       "LowFixed      1.242040e+01\n",
       "CloseFixed    1.242040e+01\n",
       "Name: 0, dtype: float64"
      ]
     },
     "execution_count": 10,
     "metadata": {},
     "output_type": "execute_result"
    }
   ],
   "source": [
    "stb.iloc[0,0:5]"
   ]
  },
  {
   "cell_type": "code",
   "execution_count": 11,
   "id": "20b84fc4",
   "metadata": {},
   "outputs": [
    {
     "data": {
      "text/plain": [
       "2"
      ]
     },
     "execution_count": 11,
     "metadata": {},
     "output_type": "execute_result"
    }
   ],
   "source": [
    "stb.index[2]"
   ]
  },
  {
   "cell_type": "code",
   "execution_count": 12,
   "id": "a6ee03fa",
   "metadata": {},
   "outputs": [
    {
     "data": {
      "text/plain": [
       "(3849, 6)"
      ]
     },
     "execution_count": 12,
     "metadata": {},
     "output_type": "execute_result"
    }
   ],
   "source": [
    "stb.shape"
   ]
  },
  {
   "cell_type": "code",
   "execution_count": 13,
   "id": "32f06e92",
   "metadata": {},
   "outputs": [
    {
     "data": {
      "text/html": [
       "<div>\n",
       "<style scoped>\n",
       "    .dataframe tbody tr th:only-of-type {\n",
       "        vertical-align: middle;\n",
       "    }\n",
       "\n",
       "    .dataframe tbody tr th {\n",
       "        vertical-align: top;\n",
       "    }\n",
       "\n",
       "    .dataframe thead th {\n",
       "        text-align: right;\n",
       "    }\n",
       "</style>\n",
       "<table border=\"1\" class=\"dataframe\">\n",
       "  <thead>\n",
       "    <tr style=\"text-align: right;\">\n",
       "      <th></th>\n",
       "      <th>YYYYMMDD</th>\n",
       "      <th>OpenFixed</th>\n",
       "      <th>HighFixed</th>\n",
       "      <th>LowFixed</th>\n",
       "      <th>CloseFixed</th>\n",
       "      <th>Volume</th>\n",
       "    </tr>\n",
       "  </thead>\n",
       "  <tbody>\n",
       "    <tr>\n",
       "      <th>count</th>\n",
       "      <td>3.849000e+03</td>\n",
       "      <td>3849.000000</td>\n",
       "      <td>3849.000000</td>\n",
       "      <td>3849.000000</td>\n",
       "      <td>3849.000000</td>\n",
       "      <td>3.849000e+03</td>\n",
       "    </tr>\n",
       "    <tr>\n",
       "      <th>mean</th>\n",
       "      <td>2.013795e+07</td>\n",
       "      <td>13.559464</td>\n",
       "      <td>13.731081</td>\n",
       "      <td>13.397392</td>\n",
       "      <td>13.560109</td>\n",
       "      <td>4.667733e+06</td>\n",
       "    </tr>\n",
       "    <tr>\n",
       "      <th>std</th>\n",
       "      <td>4.462366e+04</td>\n",
       "      <td>4.867624</td>\n",
       "      <td>4.931665</td>\n",
       "      <td>4.795328</td>\n",
       "      <td>4.859115</td>\n",
       "      <td>8.539124e+06</td>\n",
       "    </tr>\n",
       "    <tr>\n",
       "      <th>min</th>\n",
       "      <td>2.006071e+07</td>\n",
       "      <td>5.143400</td>\n",
       "      <td>5.182100</td>\n",
       "      <td>5.027300</td>\n",
       "      <td>5.027300</td>\n",
       "      <td>0.000000e+00</td>\n",
       "    </tr>\n",
       "    <tr>\n",
       "      <th>25%</th>\n",
       "      <td>2.010052e+07</td>\n",
       "      <td>10.400000</td>\n",
       "      <td>10.550000</td>\n",
       "      <td>10.300000</td>\n",
       "      <td>10.400000</td>\n",
       "      <td>5.703400e+05</td>\n",
       "    </tr>\n",
       "    <tr>\n",
       "      <th>50%</th>\n",
       "      <td>2.014040e+07</td>\n",
       "      <td>12.500000</td>\n",
       "      <td>12.645700</td>\n",
       "      <td>12.309300</td>\n",
       "      <td>12.500000</td>\n",
       "      <td>1.556280e+06</td>\n",
       "    </tr>\n",
       "    <tr>\n",
       "      <th>75%</th>\n",
       "      <td>2.018020e+07</td>\n",
       "      <td>15.341500</td>\n",
       "      <td>15.506500</td>\n",
       "      <td>15.176500</td>\n",
       "      <td>15.341500</td>\n",
       "      <td>4.205060e+06</td>\n",
       "    </tr>\n",
       "    <tr>\n",
       "      <th>max</th>\n",
       "      <td>2.021121e+07</td>\n",
       "      <td>33.500000</td>\n",
       "      <td>33.900000</td>\n",
       "      <td>32.350000</td>\n",
       "      <td>33.800000</td>\n",
       "      <td>9.997850e+07</td>\n",
       "    </tr>\n",
       "  </tbody>\n",
       "</table>\n",
       "</div>"
      ],
      "text/plain": [
       "           YYYYMMDD    OpenFixed    HighFixed     LowFixed   CloseFixed  \\\n",
       "count  3.849000e+03  3849.000000  3849.000000  3849.000000  3849.000000   \n",
       "mean   2.013795e+07    13.559464    13.731081    13.397392    13.560109   \n",
       "std    4.462366e+04     4.867624     4.931665     4.795328     4.859115   \n",
       "min    2.006071e+07     5.143400     5.182100     5.027300     5.027300   \n",
       "25%    2.010052e+07    10.400000    10.550000    10.300000    10.400000   \n",
       "50%    2.014040e+07    12.500000    12.645700    12.309300    12.500000   \n",
       "75%    2.018020e+07    15.341500    15.506500    15.176500    15.341500   \n",
       "max    2.021121e+07    33.500000    33.900000    32.350000    33.800000   \n",
       "\n",
       "             Volume  \n",
       "count  3.849000e+03  \n",
       "mean   4.667733e+06  \n",
       "std    8.539124e+06  \n",
       "min    0.000000e+00  \n",
       "25%    5.703400e+05  \n",
       "50%    1.556280e+06  \n",
       "75%    4.205060e+06  \n",
       "max    9.997850e+07  "
      ]
     },
     "execution_count": 13,
     "metadata": {},
     "output_type": "execute_result"
    }
   ],
   "source": [
    "stb.describe()"
   ]
  },
  {
   "cell_type": "code",
   "execution_count": 14,
   "id": "89d5974d",
   "metadata": {},
   "outputs": [],
   "source": [
    "stb = stb.set_index('YYYYMMDD')"
   ]
  },
  {
   "cell_type": "code",
   "execution_count": 15,
   "id": "ed343093",
   "metadata": {},
   "outputs": [
    {
     "data": {
      "text/html": [
       "<div>\n",
       "<style scoped>\n",
       "    .dataframe tbody tr th:only-of-type {\n",
       "        vertical-align: middle;\n",
       "    }\n",
       "\n",
       "    .dataframe tbody tr th {\n",
       "        vertical-align: top;\n",
       "    }\n",
       "\n",
       "    .dataframe thead th {\n",
       "        text-align: right;\n",
       "    }\n",
       "</style>\n",
       "<table border=\"1\" class=\"dataframe\">\n",
       "  <thead>\n",
       "    <tr style=\"text-align: right;\">\n",
       "      <th></th>\n",
       "      <th>OpenFixed</th>\n",
       "      <th>HighFixed</th>\n",
       "      <th>LowFixed</th>\n",
       "      <th>CloseFixed</th>\n",
       "      <th>Volume</th>\n",
       "    </tr>\n",
       "    <tr>\n",
       "      <th>YYYYMMDD</th>\n",
       "      <th></th>\n",
       "      <th></th>\n",
       "      <th></th>\n",
       "      <th></th>\n",
       "      <th></th>\n",
       "    </tr>\n",
       "  </thead>\n",
       "  <tbody>\n",
       "    <tr>\n",
       "      <th>20211206</th>\n",
       "      <td>28.00</td>\n",
       "      <td>28.40</td>\n",
       "      <td>26.4</td>\n",
       "      <td>27.00</td>\n",
       "      <td>26472000</td>\n",
       "    </tr>\n",
       "    <tr>\n",
       "      <th>20211207</th>\n",
       "      <td>27.30</td>\n",
       "      <td>28.10</td>\n",
       "      <td>26.9</td>\n",
       "      <td>28.05</td>\n",
       "      <td>12829200</td>\n",
       "    </tr>\n",
       "    <tr>\n",
       "      <th>20211208</th>\n",
       "      <td>28.05</td>\n",
       "      <td>28.80</td>\n",
       "      <td>27.8</td>\n",
       "      <td>28.60</td>\n",
       "      <td>15748100</td>\n",
       "    </tr>\n",
       "    <tr>\n",
       "      <th>20211209</th>\n",
       "      <td>28.50</td>\n",
       "      <td>28.90</td>\n",
       "      <td>28.4</td>\n",
       "      <td>28.85</td>\n",
       "      <td>11915400</td>\n",
       "    </tr>\n",
       "    <tr>\n",
       "      <th>20211210</th>\n",
       "      <td>28.85</td>\n",
       "      <td>29.05</td>\n",
       "      <td>28.4</td>\n",
       "      <td>28.60</td>\n",
       "      <td>9892400</td>\n",
       "    </tr>\n",
       "  </tbody>\n",
       "</table>\n",
       "</div>"
      ],
      "text/plain": [
       "          OpenFixed  HighFixed  LowFixed  CloseFixed    Volume\n",
       "YYYYMMDD                                                      \n",
       "20211206      28.00      28.40      26.4       27.00  26472000\n",
       "20211207      27.30      28.10      26.9       28.05  12829200\n",
       "20211208      28.05      28.80      27.8       28.60  15748100\n",
       "20211209      28.50      28.90      28.4       28.85  11915400\n",
       "20211210      28.85      29.05      28.4       28.60   9892400"
      ]
     },
     "execution_count": 15,
     "metadata": {},
     "output_type": "execute_result"
    }
   ],
   "source": [
    "stb.tail()"
   ]
  },
  {
   "cell_type": "code",
   "execution_count": 16,
   "id": "f1e0aac6",
   "metadata": {},
   "outputs": [],
   "source": [
    "stb['TomorrowPrice'] = stb['CloseFixed'].shift(-1)"
   ]
  },
  {
   "cell_type": "code",
   "execution_count": 18,
   "id": "68a7164a",
   "metadata": {},
   "outputs": [],
   "source": [
    "stb['PriceDiff'] = stb['TomorrowPrice'] - stb['CloseFixed'] "
   ]
  },
  {
   "cell_type": "code",
   "execution_count": 19,
   "id": "8121daf0",
   "metadata": {},
   "outputs": [],
   "source": [
    "stb['Return'] = stb['PriceDiff']/stb['CloseFixed']"
   ]
  },
  {
   "cell_type": "code",
   "execution_count": 21,
   "id": "71c2c863",
   "metadata": {},
   "outputs": [],
   "source": [
    "stb['Direction'] = [1 if stb.loc[ei, 'PriceDiff'] > 0 else -1 for ei in stb.index]"
   ]
  },
  {
   "cell_type": "markdown",
   "id": "e556298d",
   "metadata": {},
   "source": [
    "There are different types of moving averages which include:\n",
    "1. Simple - SMA\n",
    "2. Exponential - EMA\n",
    "3. Weighted \n",
    "4. Smoothed "
   ]
  },
  {
   "cell_type": "markdown",
   "id": "7c6c9744",
   "metadata": {},
   "source": [
    "These are ways to capture SMA:\n",
    "\n",
    "stb['SMA3'] = (stb['CloseFixed'] + stb['CloseFixed'].shift(-1) + stb['CloseFixed'].shift(-2))/3\n",
    "\n",
    "or\n",
    "\n",
    "stb['SMA3'] = stb['CloseFixed'].rolling(3).mean()"
   ]
  },
  {
   "cell_type": "code",
   "execution_count": 34,
   "id": "e45efe22",
   "metadata": {},
   "outputs": [],
   "source": [
    "stb['SMA3'] = stb['CloseFixed'].rolling(3).mean()"
   ]
  },
  {
   "cell_type": "code",
   "execution_count": 35,
   "id": "f3fdb28e",
   "metadata": {},
   "outputs": [],
   "source": [
    "stb['SMA10'] = stb['CloseFixed'].rolling(50).mean()"
   ]
  },
  {
   "cell_type": "code",
   "execution_count": 36,
   "id": "bff9ff89",
   "metadata": {},
   "outputs": [],
   "source": [
    "stb['SMA50'] = stb['CloseFixed'].rolling(200).mean()"
   ]
  },
  {
   "cell_type": "code",
   "execution_count": 37,
   "id": "9e463ebd",
   "metadata": {},
   "outputs": [
    {
     "data": {
      "text/plain": [
       "<AxesSubplot:xlabel='YYYYMMDD'>"
      ]
     },
     "execution_count": 37,
     "metadata": {},
     "output_type": "execute_result"
    },
    {
     "data": {
      "image/png": "[encoded data removed]",
      "text/plain": [
       "<Figure size 432x288 with 1 Axes>"
      ]
     },
     "metadata": {
      "needs_background": "light"
     },
     "output_type": "display_data"
    }
   ],
   "source": [
    "stb['CloseFixed'].plot()\n",
    "stb['SMA3'].plot()\n",
    "stb['SMA10'].plot()\n",
    "stb['SMA50'].plot()"
   ]
  },
  {
   "cell_type": "code",
   "execution_count": 40,
   "id": "93832712",
   "metadata": {},
   "outputs": [],
   "source": [
    "stb['Shares'] = [1 if stb.loc[ei, 'SMA10']>stb.loc[ei, 'SMA50'] else 0 for ei in stb.index]"
   ]
  },
  {
   "cell_type": "code",
   "execution_count": 43,
   "id": "80f82bdc",
   "metadata": {},
   "outputs": [],
   "source": [
    "stb['Profit'] = [stb.loc[ei, 'TomorrowPrice'] - stb.loc[ei, 'CloseFixed'] if stb.loc[ei, 'Shares']== 1 else 0 for ei in stb.index]"
   ]
  },
  {
   "cell_type": "code",
   "execution_count": 50,
   "id": "80f05efc",
   "metadata": {},
   "outputs": [
    {
     "data": {
      "text/plain": [
       "<matplotlib.lines.Line2D at 0x180b0171940>"
      ]
     },
     "execution_count": 50,
     "metadata": {},
     "output_type": "execute_result"
    },
    {
     "data": {
      "image/png": "[encoded data removed]",
      "text/plain": [
       "<Figure size 432x288 with 1 Axes>"
      ]
     },
     "metadata": {
      "needs_background": "light"
     },
     "output_type": "display_data"
    }
   ],
   "source": [
    "stb['Profit'].plot()\n",
    "plt.axhline(y = 0, color = 'red')"
   ]
  },
  {
   "cell_type": "code",
   "execution_count": 51,
   "id": "d1dc58f8",
   "metadata": {},
   "outputs": [],
   "source": [
    "stb['Wealth'] = stb['Profit'].cumsum()"
   ]
  },
  {
   "cell_type": "code",
   "execution_count": 52,
   "id": "3cab09c7",
   "metadata": {},
   "outputs": [
    {
     "data": {
      "text/html": [
       "<div>\n",
       "<style scoped>\n",
       "    .dataframe tbody tr th:only-of-type {\n",
       "        vertical-align: middle;\n",
       "    }\n",
       "\n",
       "    .dataframe tbody tr th {\n",
       "        vertical-align: top;\n",
       "    }\n",
       "\n",
       "    .dataframe thead th {\n",
       "        text-align: right;\n",
       "    }\n",
       "</style>\n",
       "<table border=\"1\" class=\"dataframe\">\n",
       "  <thead>\n",
       "    <tr style=\"text-align: right;\">\n",
       "      <th></th>\n",
       "      <th>OpenFixed</th>\n",
       "      <th>HighFixed</th>\n",
       "      <th>LowFixed</th>\n",
       "      <th>CloseFixed</th>\n",
       "      <th>Volume</th>\n",
       "      <th>TomorrowPrice</th>\n",
       "      <th>PriceDiff</th>\n",
       "      <th>Return</th>\n",
       "      <th>Direction</th>\n",
       "      <th>SMA3</th>\n",
       "      <th>SMA5</th>\n",
       "      <th>SMA10</th>\n",
       "      <th>SMA50</th>\n",
       "      <th>SMA200</th>\n",
       "      <th>Shares</th>\n",
       "      <th>Profit</th>\n",
       "      <th>Wealth</th>\n",
       "    </tr>\n",
       "    <tr>\n",
       "      <th>YYYYMMDD</th>\n",
       "      <th></th>\n",
       "      <th></th>\n",
       "      <th></th>\n",
       "      <th></th>\n",
       "      <th></th>\n",
       "      <th></th>\n",
       "      <th></th>\n",
       "      <th></th>\n",
       "      <th></th>\n",
       "      <th></th>\n",
       "      <th></th>\n",
       "      <th></th>\n",
       "      <th></th>\n",
       "      <th></th>\n",
       "      <th></th>\n",
       "      <th></th>\n",
       "      <th></th>\n",
       "    </tr>\n",
       "  </thead>\n",
       "  <tbody>\n",
       "    <tr>\n",
       "      <th>20211206</th>\n",
       "      <td>28.00</td>\n",
       "      <td>28.40</td>\n",
       "      <td>26.4</td>\n",
       "      <td>27.00</td>\n",
       "      <td>26472000</td>\n",
       "      <td>28.05</td>\n",
       "      <td>1.05</td>\n",
       "      <td>0.038889</td>\n",
       "      <td>1</td>\n",
       "      <td>28.100000</td>\n",
       "      <td>28.62</td>\n",
       "      <td>27.261</td>\n",
       "      <td>26.45375</td>\n",
       "      <td>26.45375</td>\n",
       "      <td>1</td>\n",
       "      <td>1.05</td>\n",
       "      <td>8.1175</td>\n",
       "    </tr>\n",
       "    <tr>\n",
       "      <th>20211207</th>\n",
       "      <td>27.30</td>\n",
       "      <td>28.10</td>\n",
       "      <td>26.9</td>\n",
       "      <td>28.05</td>\n",
       "      <td>12829200</td>\n",
       "      <td>28.60</td>\n",
       "      <td>0.55</td>\n",
       "      <td>0.019608</td>\n",
       "      <td>1</td>\n",
       "      <td>27.683333</td>\n",
       "      <td>28.45</td>\n",
       "      <td>27.291</td>\n",
       "      <td>26.50000</td>\n",
       "      <td>26.50000</td>\n",
       "      <td>1</td>\n",
       "      <td>0.55</td>\n",
       "      <td>8.6675</td>\n",
       "    </tr>\n",
       "    <tr>\n",
       "      <th>20211208</th>\n",
       "      <td>28.05</td>\n",
       "      <td>28.80</td>\n",
       "      <td>27.8</td>\n",
       "      <td>28.60</td>\n",
       "      <td>15748100</td>\n",
       "      <td>28.85</td>\n",
       "      <td>0.25</td>\n",
       "      <td>0.008741</td>\n",
       "      <td>1</td>\n",
       "      <td>27.883333</td>\n",
       "      <td>28.19</td>\n",
       "      <td>27.347</td>\n",
       "      <td>26.55125</td>\n",
       "      <td>26.55125</td>\n",
       "      <td>1</td>\n",
       "      <td>0.25</td>\n",
       "      <td>8.9175</td>\n",
       "    </tr>\n",
       "    <tr>\n",
       "      <th>20211209</th>\n",
       "      <td>28.50</td>\n",
       "      <td>28.90</td>\n",
       "      <td>28.4</td>\n",
       "      <td>28.85</td>\n",
       "      <td>11915400</td>\n",
       "      <td>28.60</td>\n",
       "      <td>-0.25</td>\n",
       "      <td>-0.008666</td>\n",
       "      <td>-1</td>\n",
       "      <td>28.500000</td>\n",
       "      <td>28.10</td>\n",
       "      <td>27.410</td>\n",
       "      <td>26.60300</td>\n",
       "      <td>26.60300</td>\n",
       "      <td>1</td>\n",
       "      <td>-0.25</td>\n",
       "      <td>8.6675</td>\n",
       "    </tr>\n",
       "    <tr>\n",
       "      <th>20211210</th>\n",
       "      <td>28.85</td>\n",
       "      <td>29.05</td>\n",
       "      <td>28.4</td>\n",
       "      <td>28.60</td>\n",
       "      <td>9892400</td>\n",
       "      <td>NaN</td>\n",
       "      <td>NaN</td>\n",
       "      <td>NaN</td>\n",
       "      <td>-1</td>\n",
       "      <td>28.683333</td>\n",
       "      <td>28.22</td>\n",
       "      <td>27.488</td>\n",
       "      <td>26.65425</td>\n",
       "      <td>26.65425</td>\n",
       "      <td>1</td>\n",
       "      <td>NaN</td>\n",
       "      <td>NaN</td>\n",
       "    </tr>\n",
       "  </tbody>\n",
       "</table>\n",
       "</div>"
      ],
      "text/plain": [
       "          OpenFixed  HighFixed  LowFixed  CloseFixed    Volume  TomorrowPrice  \\\n",
       "YYYYMMDD                                                                        \n",
       "20211206      28.00      28.40      26.4       27.00  26472000          28.05   \n",
       "20211207      27.30      28.10      26.9       28.05  12829200          28.60   \n",
       "20211208      28.05      28.80      27.8       28.60  15748100          28.85   \n",
       "20211209      28.50      28.90      28.4       28.85  11915400          28.60   \n",
       "20211210      28.85      29.05      28.4       28.60   9892400            NaN   \n",
       "\n",
       "          PriceDiff    Return  Direction       SMA3   SMA5   SMA10     SMA50  \\\n",
       "YYYYMMDD                                                                       \n",
       "20211206       1.05  0.038889          1  28.100000  28.62  27.261  26.45375   \n",
       "20211207       0.55  0.019608          1  27.683333  28.45  27.291  26.50000   \n",
       "20211208       0.25  0.008741          1  27.883333  28.19  27.347  26.55125   \n",
       "20211209      -0.25 -0.008666         -1  28.500000  28.10  27.410  26.60300   \n",
       "20211210        NaN       NaN         -1  28.683333  28.22  27.488  26.65425   \n",
       "\n",
       "            SMA200  Shares  Profit  Wealth  \n",
       "YYYYMMDD                                    \n",
       "20211206  26.45375       1    1.05  8.1175  \n",
       "20211207  26.50000       1    0.55  8.6675  \n",
       "20211208  26.55125       1    0.25  8.9175  \n",
       "20211209  26.60300       1   -0.25  8.6675  \n",
       "20211210  26.65425       1     NaN     NaN  "
      ]
     },
     "execution_count": 52,
     "metadata": {},
     "output_type": "execute_result"
    }
   ],
   "source": [
    "stb.tail()"
   ]
  },
  {
   "cell_type": "code",
   "execution_count": 55,
   "id": "733833d4",
   "metadata": {},
   "outputs": [
    {
     "name": "stdout",
     "output_type": "stream",
     "text": [
      "Total money you win is 8.667499999999999\n"
     ]
    }
   ],
   "source": [
    "print('Total money you win is', stb.loc[stb.index[-2], 'Wealth'])"
   ]
  },
  {
   "cell_type": "code",
   "execution_count": 58,
   "id": "20d0c7a0",
   "metadata": {},
   "outputs": [
    {
     "name": "stdout",
     "output_type": "stream",
     "text": [
      "Total money you spent is 12.4204\n"
     ]
    }
   ],
   "source": [
    "print('Total money you spent is', stb.loc[stb.index[0], 'CloseFixed'])"
   ]
  },
  {
   "cell_type": "code",
   "execution_count": 59,
   "id": "a4a92106",
   "metadata": {},
   "outputs": [
    {
     "data": {
      "text/plain": [
       "<AxesSubplot:xlabel='YYYYMMDD'>"
      ]
     },
     "execution_count": 59,
     "metadata": {},
     "output_type": "execute_result"
    },
    {
     "data": {
      "image/png": "[encoded data removed]",
      "text/plain": [
       "<Figure size 432x288 with 1 Axes>"
      ]
     },
     "metadata": {
      "needs_background": "light"
     },
     "output_type": "display_data"
    }
   ],
   "source": [
    "stb['Wealth'].plot()"
   ]
  },
  {
   "cell_type": "code",
   "execution_count": null,
   "id": "00e546b1",
   "metadata": {},
   "outputs": [],
   "source": []
  }
 ],
 "metadata": {
  "kernelspec": {
   "display_name": "Python 3 (ipykernel)",
   "language": "python",
   "name": "python3"
  },
  "language_info": {
   "codemirror_mode": {
    "name": "ipython",
    "version": 3
   },
   "file_extension": ".py",
   "mimetype": "text/x-python",
   "name": "python",
   "nbconvert_exporter": "python",
   "pygments_lexer": "ipython3",
   "version": "3.9.7"
  }
 },
 "nbformat": 4,
 "nbformat_minor": 5
}
